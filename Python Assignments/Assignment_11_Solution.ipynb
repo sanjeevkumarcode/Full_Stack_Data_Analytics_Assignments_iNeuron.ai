{
 "cells": [
  {
   "cell_type": "markdown",
   "id": "53c7e882",
   "metadata": {},
   "source": [
    "# Python Basic Programming Assignment 11\n",
    "--------------------"
   ]
  },
  {
   "cell_type": "markdown",
   "id": "051da140",
   "metadata": {},
   "source": [
    "### 1. Write a Python program to find words which are greater than given length k?"
   ]
  },
  {
   "cell_type": "code",
   "execution_count": 1,
   "id": "37b99dc2",
   "metadata": {},
   "outputs": [
    {
     "name": "stdout",
     "output_type": "stream",
     "text": [
      "['Ineuron', 'python', 'programming', 'Assignment']\n"
     ]
    }
   ],
   "source": [
    "n=\"This is Ineuron python programming Assignment\"\n",
    "l=4\n",
    "s=n.split(\" \")\n",
    "l=list(filter(lambda x: (len(x)>l),s))\n",
    "print(l)"
   ]
  },
  {
   "cell_type": "markdown",
   "id": "26719cbd",
   "metadata": {},
   "source": [
    "### 2. Write a Python program for removing i-th character from a string?"
   ]
  },
  {
   "cell_type": "code",
   "execution_count": 2,
   "id": "d475886d",
   "metadata": {},
   "outputs": [],
   "source": [
    "def remove(string, i):\n",
    "    for j in range(len(string)):\n",
    "        if j == i:\n",
    "            string = string.replace(string[i], \"\")\n",
    "    return string"
   ]
  },
  {
   "cell_type": "code",
   "execution_count": 3,
   "id": "c15a468d",
   "metadata": {},
   "outputs": [
    {
     "data": {
      "text/plain": [
       "'Saneev'"
      ]
     },
     "execution_count": 3,
     "metadata": {},
     "output_type": "execute_result"
    }
   ],
   "source": [
    "remove('Sanjeev',3)"
   ]
  },
  {
   "cell_type": "markdown",
   "id": "51ae6b0f",
   "metadata": {},
   "source": [
    "### 3. Write a Python program to split and join a string?"
   ]
  },
  {
   "cell_type": "code",
   "execution_count": 4,
   "id": "8aa0f225",
   "metadata": {},
   "outputs": [
    {
     "name": "stdout",
     "output_type": "stream",
     "text": [
      "['Ineuron', 'Full', 'Stack', 'Data', 'Science', 'Bootcamp']\n",
      "Ineuron-Full-Stack-Data-Science-Bootcamp\n"
     ]
    }
   ],
   "source": [
    "a = 'Ineuron Full Stack Data Science Bootcamp'\n",
    "print(a.split(\" \"))\n",
    "print(\"-\".join(a.split()))"
   ]
  },
  {
   "cell_type": "markdown",
   "id": "59079fe1",
   "metadata": {},
   "source": [
    "### 4. Write a Python to check if a given string is binary string or not?"
   ]
  },
  {
   "cell_type": "code",
   "execution_count": 5,
   "id": "a8fb3220",
   "metadata": {},
   "outputs": [],
   "source": [
    "def check(string):\n",
    "    a = set(string)\n",
    "    b = {'0', '1'}\n",
    "    if a == b or a == {'0'} or a == {'1'}:\n",
    "        print(\"Yes, The given string is binary\")\n",
    "    else:\n",
    "        print(\"No, The given string is not binary\")"
   ]
  },
  {
   "cell_type": "code",
   "execution_count": 6,
   "id": "98e17821",
   "metadata": {},
   "outputs": [
    {
     "name": "stdout",
     "output_type": "stream",
     "text": [
      "Yes, The given string is binary\n"
     ]
    }
   ],
   "source": [
    "check('01010')"
   ]
  },
  {
   "cell_type": "markdown",
   "id": "4d6cf11a",
   "metadata": {},
   "source": [
    "### 5. Write a Python program to find uncommon words from two Strings?"
   ]
  },
  {
   "cell_type": "code",
   "execution_count": 7,
   "id": "4c4e8cee",
   "metadata": {},
   "outputs": [],
   "source": [
    "def uncommon(a,b):\n",
    "    a=a.split()\n",
    "    b=b.split()\n",
    "    k=set(a).symmetric_difference(set(b))\n",
    "    return k"
   ]
  },
  {
   "cell_type": "code",
   "execution_count": 8,
   "id": "0ccde2fe",
   "metadata": {},
   "outputs": [
    {
     "data": {
      "text/plain": [
       "{'Beautiful', 'City', 'beautiful', 'painting'}"
      ]
     },
     "execution_count": 8,
     "metadata": {},
     "output_type": "execute_result"
    }
   ],
   "source": [
    "uncommon('The City is Beautiful','The painting is beautiful')"
   ]
  },
  {
   "cell_type": "markdown",
   "id": "e2b24677",
   "metadata": {},
   "source": [
    "### 6. Write a Python to find all duplicate characters in string?"
   ]
  },
  {
   "cell_type": "code",
   "execution_count": 9,
   "id": "fa4ca49e",
   "metadata": {},
   "outputs": [],
   "source": [
    "from collections import Counter\n",
    "def duplicate_char(input):\n",
    "    WC = Counter(input)\n",
    "    for letter, count in WC.items():\n",
    "        if (count > 1):\n",
    "            print(letter)"
   ]
  },
  {
   "cell_type": "code",
   "execution_count": 10,
   "id": "a1b1eb76",
   "metadata": {},
   "outputs": [
    {
     "name": "stdout",
     "output_type": "stream",
     "text": [
      "e\n",
      " \n",
      "s\n",
      "o\n",
      "n\n",
      "u\n",
      "d\n",
      "p\n"
     ]
    }
   ],
   "source": [
    "duplicate_char(\"The song sounded simply superb\")"
   ]
  },
  {
   "cell_type": "markdown",
   "id": "1a6af7e4",
   "metadata": {},
   "source": [
    "### 7. Write a Python Program to check if a string contains any special character?"
   ]
  },
  {
   "cell_type": "code",
   "execution_count": 11,
   "id": "d8388307",
   "metadata": {},
   "outputs": [],
   "source": [
    "import re\n",
    "def SC(string):\n",
    "    regex = re.compile('[@_!#$%^&*()<>?/\\|}{~:]')\n",
    "    if(regex.search(string) == None):\n",
    "        print(\"String has no special characters\")\n",
    "    else:\n",
    "        print(\"String has special characters\")"
   ]
  },
  {
   "cell_type": "code",
   "execution_count": 12,
   "id": "512ecee2",
   "metadata": {},
   "outputs": [
    {
     "name": "stdout",
     "output_type": "stream",
     "text": [
      "String has special characters\n"
     ]
    }
   ],
   "source": [
    "SC('This is @@@')"
   ]
  },
  {
   "cell_type": "code",
   "execution_count": null,
   "id": "470b2c93",
   "metadata": {},
   "outputs": [],
   "source": []
  }
 ],
 "metadata": {
  "kernelspec": {
   "display_name": "Python 3 (ipykernel)",
   "language": "python",
   "name": "python3"
  },
  "language_info": {
   "codemirror_mode": {
    "name": "ipython",
    "version": 3
   },
   "file_extension": ".py",
   "mimetype": "text/x-python",
   "name": "python",
   "nbconvert_exporter": "python",
   "pygments_lexer": "ipython3",
   "version": "3.9.12"
  }
 },
 "nbformat": 4,
 "nbformat_minor": 5
}
