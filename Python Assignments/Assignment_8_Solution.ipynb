{
 "cells": [
  {
   "cell_type": "markdown",
   "id": "9b304197",
   "metadata": {},
   "source": [
    "# Python Basic Programming Assignment 8"
   ]
  },
  {
   "cell_type": "markdown",
   "id": "22789ae6",
   "metadata": {},
   "source": [
    "### 1. Write a Python Program to Add Two Matrices?"
   ]
  },
  {
   "cell_type": "code",
   "execution_count": 1,
   "id": "a7f1e6fc",
   "metadata": {},
   "outputs": [
    {
     "name": "stdout",
     "output_type": "stream",
     "text": [
      "Enter 9 Elements for First Matrix: \n",
      "5\n",
      "3\n",
      "2\n",
      "1\n",
      "4\n",
      "6\n",
      "7\n",
      "8\n",
      "3\n",
      "Enter 9 Elements for Second Matrix: \n",
      "1\n",
      "2\n",
      "3\n",
      "4\n",
      "5\n",
      "6\n",
      "7\n",
      "5\n",
      "4\n",
      "Addition Result of Two Given Matrix is:\n",
      "6 5 5 \n",
      "5 9 12 \n",
      "14 13 7 \n"
     ]
    }
   ],
   "source": [
    "One = []\n",
    "print(\"Enter 9 Elements for First Matrix: \")\n",
    "for i in range(3):\n",
    "    One.append([])\n",
    "    for j in range(3):\n",
    "        num = int(input())\n",
    "        One[i].append(num)\n",
    "\n",
    "Two = []\n",
    "print(\"Enter 9 Elements for Second Matrix: \")\n",
    "for i in range(3):\n",
    "    Two.append([])\n",
    "    for j in range(3):\n",
    "        num = int(input())\n",
    "        Two[i].append(num)\n",
    "\n",
    "Three = []\n",
    "for i in range(3):\n",
    "    Three.append([])\n",
    "    for j in range(3):\n",
    "        Three[i].append(One[i][j]+Two[i][j])\n",
    "\n",
    "print(\"Addition Result of Two Given Matrix is:\")\n",
    "for i in range(3):\n",
    "    for j in range(3):\n",
    "        print(Three[i][j], end=\" \")\n",
    "    print()\n"
   ]
  },
  {
   "cell_type": "markdown",
   "id": "044ceda6",
   "metadata": {},
   "source": [
    "### 2. Write a Python Program to Multiply Two Matrices?"
   ]
  },
  {
   "cell_type": "code",
   "execution_count": 2,
   "id": "cf74c195",
   "metadata": {},
   "outputs": [
    {
     "name": "stdout",
     "output_type": "stream",
     "text": [
      "Enter 9 Elements for First Matrix: \n",
      "1\n",
      "2\n",
      "3\n",
      "4\n",
      "5\n",
      "4\n",
      "3\n",
      "2\n",
      "1\n",
      "Enter 9 Elements for Second Matrix: \n",
      "1\n",
      "2\n",
      "3\n",
      "4\n",
      "5\n",
      "6\n",
      "5\n",
      "4\n",
      "3\n",
      "\n",
      "Addition Result of Two Given Matrix is:\n",
      "1 4 9 \n",
      "16 25 24 \n",
      "15 8 3 \n"
     ]
    }
   ],
   "source": [
    "matOne = []\n",
    "print(\"Enter 9 Elements for First Matrix: \")\n",
    "for i in range(3):\n",
    "    matOne.append([])\n",
    "    for j in range(3):\n",
    "        num = int(input())\n",
    "        matOne[i].append(num)\n",
    "\n",
    "matTwo = []\n",
    "print(\"Enter 9 Elements for Second Matrix: \")\n",
    "for i in range(3):\n",
    "    matTwo.append([])\n",
    "    for j in range(3):\n",
    "        num = int(input())\n",
    "        matTwo[i].append(num)\n",
    "\n",
    "matThree = []\n",
    "for i in range(3):\n",
    "    matThree.append([])\n",
    "    for j in range(3):\n",
    "        matThree[i].append(matOne[i][j] * matTwo[i][j])\n",
    "\n",
    "print(\"\\nAddition Result of Two Given Matrix is:\")\n",
    "for i in range(3):\n",
    "    for j in range(3):\n",
    "        print(matThree[i][j], end=\" \")\n",
    "    print()"
   ]
  },
  {
   "cell_type": "markdown",
   "id": "5f688e46",
   "metadata": {},
   "source": [
    "## 3. Write a Python Program to Transpose a Matrix?"
   ]
  },
  {
   "cell_type": "code",
   "execution_count": 3,
   "id": "48a98af1",
   "metadata": {},
   "outputs": [
    {
     "name": "stdout",
     "output_type": "stream",
     "text": [
      "Enter 9 Elements for Matrix: \n",
      "1\n",
      "2\n",
      "3\n",
      "4\n",
      "5\n",
      "6\n",
      "5\n",
      "4\n",
      "3\n",
      "Transpose of Matrix is:\n",
      "1 4 5 \n",
      "2 5 4 \n",
      "3 6 3 \n"
     ]
    }
   ],
   "source": [
    "One = []\n",
    "print(\"Enter 9 Elements for Matrix: \")\n",
    "for i in range(3):\n",
    "    One.append([])\n",
    "    for j in range(3):\n",
    "        num = int(input())\n",
    "        One[i].append(num)\n",
    "        \n",
    "Three = []\n",
    "for i in range(3):\n",
    "    Three.append([])\n",
    "    for j in range(3):\n",
    "         Three[i].append(One[i][j])\n",
    "\n",
    "print(\"Transpose of Matrix is:\")\n",
    "for i in range(3):\n",
    "    for j in range(3):\n",
    "        print(Three[j][i], end=\" \")\n",
    "    print()"
   ]
  },
  {
   "cell_type": "markdown",
   "id": "b2849025",
   "metadata": {},
   "source": [
    "\n",
    "### 4. Write a Python Program to Sort Words in Alphabetic Order?\n"
   ]
  },
  {
   "cell_type": "code",
   "execution_count": 4,
   "id": "7b10dbca",
   "metadata": {},
   "outputs": [
    {
     "name": "stdout",
     "output_type": "stream",
     "text": [
      "Enter a string: Sanjeev\n",
      "The sorted words are:\n",
      "sanjeev\n"
     ]
    }
   ],
   "source": [
    "my_str = input(\"Enter a string: \")\n",
    "\n",
    "words = [word.lower() for word in my_str.split()]\n",
    "\n",
    "words.sort()\n",
    "\n",
    "print(\"The sorted words are:\")\n",
    "for word in words:\n",
    "   print(word)"
   ]
  },
  {
   "cell_type": "markdown",
   "id": "48ac7b24",
   "metadata": {},
   "source": [
    "### 5. Write a Python Program to Remove Punctuation From a String?"
   ]
  },
  {
   "cell_type": "code",
   "execution_count": 5,
   "id": "f8c084e2",
   "metadata": {},
   "outputs": [
    {
     "name": "stdout",
     "output_type": "stream",
     "text": [
      "Enter a string: sanj@*ddd\n",
      "sanjddd\n"
     ]
    }
   ],
   "source": [
    "punc = '''!()-[]{};:'\"\\,<>./?@#$%^&*_~'''\n",
    "\n",
    "my_str = input(\"Enter a string: \")\n",
    "\n",
    "# remove punctuation from the string\n",
    "no_punct = \"\"\n",
    "for char in my_str:\n",
    "   if char not in punc:\n",
    "       no_punct = no_punct + char\n",
    "\n",
    "# display the unpunctuated string\n",
    "print(no_punct)"
   ]
  },
  {
   "cell_type": "code",
   "execution_count": null,
   "id": "aec549f4",
   "metadata": {},
   "outputs": [],
   "source": []
  }
 ],
 "metadata": {
  "kernelspec": {
   "display_name": "Python 3 (ipykernel)",
   "language": "python",
   "name": "python3"
  },
  "language_info": {
   "codemirror_mode": {
    "name": "ipython",
    "version": 3
   },
   "file_extension": ".py",
   "mimetype": "text/x-python",
   "name": "python",
   "nbconvert_exporter": "python",
   "pygments_lexer": "ipython3",
   "version": "3.9.12"
  }
 },
 "nbformat": 4,
 "nbformat_minor": 5
}
